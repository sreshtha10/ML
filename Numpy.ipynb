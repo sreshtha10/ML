{
 "cells": [
  {
   "cell_type": "markdown",
   "id": "2e312cc4",
   "metadata": {},
   "source": [
    "Numpy is the fundamental package for numeric computing with Python. It provides ways to create, stroe and/or manipulate data, which makes it able to seamlessly and speedily integrate with a wide variety of databases. This is also the foundation on which Pandas is built on."
   ]
  },
  {
   "cell_type": "code",
   "execution_count": 1,
   "id": "3e3c0bc8",
   "metadata": {},
   "outputs": [],
   "source": [
    "import numpy as np\n",
    "import math"
   ]
  },
  {
   "cell_type": "code",
   "execution_count": 2,
   "id": "12fe4617",
   "metadata": {},
   "outputs": [],
   "source": [
    "#Array creation\n",
    "a = np.array([1,2,3,4])"
   ]
  },
  {
   "cell_type": "code",
   "execution_count": 3,
   "id": "1d4b4510",
   "metadata": {},
   "outputs": [
    {
     "name": "stdout",
     "output_type": "stream",
     "text": [
      "[1 2 3 4]\n",
      "1\n"
     ]
    }
   ],
   "source": [
    "print(a)\n",
    "print(a.ndim)"
   ]
  },
  {
   "cell_type": "code",
   "execution_count": 5,
   "id": "47f0a43a",
   "metadata": {},
   "outputs": [
    {
     "data": {
      "text/plain": [
       "(2, 3)"
      ]
     },
     "execution_count": 5,
     "metadata": {},
     "output_type": "execute_result"
    }
   ],
   "source": [
    "b = np.array([[1,2,3],[3,4,5]])\n",
    "b.shape"
   ]
  },
  {
   "cell_type": "code",
   "execution_count": 6,
   "id": "3ca45693",
   "metadata": {},
   "outputs": [
    {
     "data": {
      "text/plain": [
       "dtype('int32')"
      ]
     },
     "execution_count": 6,
     "metadata": {},
     "output_type": "execute_result"
    }
   ],
   "source": [
    "# types of items in the array\n",
    "a.dtype"
   ]
  },
  {
   "cell_type": "code",
   "execution_count": 7,
   "id": "f18017a8",
   "metadata": {},
   "outputs": [],
   "source": [
    "# Numpy will automatically convert integers like 4 up to floats since there \n",
    "#is no loss of precision.\n",
    "#Sometimes we know the shape (dimensions) of the array we want to create \n",
    "#but not what we want to be in it.\n",
    "#Numpy offers several functions to create arrays with initial placeholders,\n",
    "#such as zero's or one's.\n",
    "\n",
    "d = np.zeros((2,3)) "
   ]
  },
  {
   "cell_type": "code",
   "execution_count": 8,
   "id": "01ff4dc0",
   "metadata": {},
   "outputs": [
    {
     "name": "stdout",
     "output_type": "stream",
     "text": [
      "[[0. 0. 0.]\n",
      " [0. 0. 0.]]\n"
     ]
    }
   ],
   "source": [
    "print(d)"
   ]
  },
  {
   "cell_type": "code",
   "execution_count": 9,
   "id": "07c1277d",
   "metadata": {},
   "outputs": [
    {
     "name": "stdout",
     "output_type": "stream",
     "text": [
      "[[1. 1. 1.]\n",
      " [1. 1. 1.]]\n"
     ]
    }
   ],
   "source": [
    "e = np.ones((2,3))\n",
    "print(e)\n"
   ]
  },
  {
   "cell_type": "code",
   "execution_count": 10,
   "id": "f7fa57b7",
   "metadata": {},
   "outputs": [
    {
     "data": {
      "text/plain": [
       "array([[0.68989631, 0.88513008, 0.37249565],\n",
       "       [0.26638954, 0.34807595, 0.6158251 ]])"
      ]
     },
     "execution_count": 10,
     "metadata": {},
     "output_type": "execute_result"
    }
   ],
   "source": [
    "np.random.rand(2,3)\n"
   ]
  },
  {
   "cell_type": "code",
   "execution_count": 12,
   "id": "82a2a4db",
   "metadata": {},
   "outputs": [
    {
     "name": "stdout",
     "output_type": "stream",
     "text": [
      "[10 12 14 16 18]\n"
     ]
    }
   ],
   "source": [
    "#We can also create a sequence of numbers in an array with the arange function.\n",
    "#The first argument is the starting bound and the second argument is the ending\n",
    "#bound and the third argument is the difference between each consecutive number\n",
    "#(step size)\n",
    "\n",
    "\n",
    "f = np.arange(10,20,2)\n",
    "print(f)\n"
   ]
  },
  {
   "cell_type": "code",
   "execution_count": 13,
   "id": "cdd2abdb",
   "metadata": {},
   "outputs": [
    {
     "data": {
      "text/plain": [
       "array([0.        , 0.14285714, 0.28571429, 0.42857143, 0.57142857,\n",
       "       0.71428571, 0.85714286, 1.        , 1.14285714, 1.28571429,\n",
       "       1.42857143, 1.57142857, 1.71428571, 1.85714286, 2.        ])"
      ]
     },
     "execution_count": 13,
     "metadata": {},
     "output_type": "execute_result"
    }
   ],
   "source": [
    "# If we want to generate a sequence of floats, we can use the linspace() function.\n",
    "# In this function, the third arg isn't the diff b/w two numbers but the total number of items you\n",
    "# want to generate.\n",
    "\n",
    "np.linspace(0,2,15)\n"
   ]
  },
  {
   "cell_type": "code",
   "execution_count": 14,
   "id": "2e7aaff8",
   "metadata": {},
   "outputs": [],
   "source": [
    "# Arithmetic operations on arrays\n",
    "\n",
    "\n",
    "a = np.array([10,20,30,40])\n",
    "b = np.array([1,2,3,4])\n",
    "\n",
    "c = a -b\n",
    "\n",
    "d = a*b "
   ]
  },
  {
   "cell_type": "code",
   "execution_count": 15,
   "id": "2be2296e",
   "metadata": {},
   "outputs": [
    {
     "name": "stdout",
     "output_type": "stream",
     "text": [
      "[ 9 18 27 36]\n",
      "[ 10  40  90 160]\n"
     ]
    }
   ],
   "source": [
    "print(c)\n",
    "print(d)"
   ]
  },
  {
   "cell_type": "code",
   "execution_count": 17,
   "id": "41237702",
   "metadata": {},
   "outputs": [
    {
     "data": {
      "text/plain": [
       "array([-17.77777778, -23.33333333, -20.55555556, -26.11111111,\n",
       "       -17.77777778])"
      ]
     },
     "execution_count": 17,
     "metadata": {},
     "output_type": "execute_result"
    }
   ],
   "source": [
    "# real world eg:\n",
    "\n",
    "farenheit = np.array([0,-10,-5,-15,0])\n",
    "\n",
    "# Formula for conversion to celcius is (F-32)*5/9 = C\n",
    "\n",
    "celcius = (farenheit-32)*(5/9)\n",
    "celcius"
   ]
  },
  {
   "cell_type": "code",
   "execution_count": 18,
   "id": "15b717a3",
   "metadata": {},
   "outputs": [
    {
     "data": {
      "text/plain": [
       "array([False, False, False, False, False])"
      ]
     },
     "execution_count": 18,
     "metadata": {},
     "output_type": "execute_result"
    }
   ],
   "source": [
    "# Boolean array\n",
    "celcius > -10"
   ]
  },
  {
   "cell_type": "code",
   "execution_count": 19,
   "id": "6910964c",
   "metadata": {},
   "outputs": [
    {
     "name": "stdout",
     "output_type": "stream",
     "text": [
      "[[2 0]\n",
      " [0 4]]\n"
     ]
    }
   ],
   "source": [
    "# Numpy also supports matrix manipulation. \n",
    "\n",
    "A = np.array([[1,1],[0,1]])\n",
    "B = np.array([[2,0],[3,4]])\n",
    "\n",
    "print(A*B)\n"
   ]
  },
  {
   "cell_type": "code",
   "execution_count": 20,
   "id": "1f19dfea",
   "metadata": {},
   "outputs": [
    {
     "name": "stdout",
     "output_type": "stream",
     "text": [
      "[[5 4]\n",
      " [3 4]]\n"
     ]
    }
   ],
   "source": [
    "# If we want to do the matrix product, we use the @ sign or use the dot function.\n",
    "print(A@B)\n"
   ]
  },
  {
   "cell_type": "code",
   "execution_count": 21,
   "id": "334af0ba",
   "metadata": {},
   "outputs": [
    {
     "data": {
      "text/plain": [
       "(2, 2)"
      ]
     },
     "execution_count": 21,
     "metadata": {},
     "output_type": "execute_result"
    }
   ],
   "source": [
    "A.shape\n",
    "B.shape"
   ]
  },
  {
   "cell_type": "code",
   "execution_count": 24,
   "id": "6989dc8b",
   "metadata": {},
   "outputs": [
    {
     "name": "stdout",
     "output_type": "stream",
     "text": [
      "int32\n",
      "float64\n",
      "[[ 2.3  4.1  6. ]\n",
      " [13.4 15.2 17.3]]\n",
      "float64\n"
     ]
    }
   ],
   "source": [
    "# When manipulating arrays of diff types, the type of resulting array will\n",
    "# correspond to the more general of two types (upcasting).\n",
    "\n",
    "arr1 = np.array([[1,2,3],[3,4,5]])\n",
    "print(arr1.dtype)\n",
    "\n",
    "arr2 = np.array([[1.3,2.1,3],[10.4,11.2,12.3]])\n",
    "print(arr2.dtype)\n",
    "\n",
    "arr3 = arr1+arr2\n",
    "print(arr3)\n",
    "print(arr3.dtype)"
   ]
  },
  {
   "cell_type": "code",
   "execution_count": 25,
   "id": "7f128a03",
   "metadata": {},
   "outputs": [
    {
     "name": "stdout",
     "output_type": "stream",
     "text": [
      "2.3\n",
      "17.3\n",
      "9.716666666666667\n",
      "58.3\n"
     ]
    }
   ],
   "source": [
    "# Numpy arrays have many aggregation functions on them such as sum(), max(), min() and mean()\n",
    "\n",
    "print(arr3.min())\n",
    "print(arr3.max())\n",
    "print(arr3.mean())\n",
    "print(arr3.sum())\n"
   ]
  },
  {
   "cell_type": "code",
   "execution_count": 26,
   "id": "2bc6ba4f",
   "metadata": {},
   "outputs": [
    {
     "name": "stdout",
     "output_type": "stream",
     "text": [
      "[[ 1  2  3  4  5]\n",
      " [ 6  7  8  9 10]\n",
      " [11 12 13 14 15]]\n"
     ]
    }
   ],
   "source": [
    "# Let's create an array with 15 elements ranging from 1 to 15 with dim 3X5.\n",
    "\n",
    "b = np.arange(1,16,1).reshape(3,5)\n",
    "print(b)"
   ]
  },
  {
   "cell_type": "code",
   "execution_count": 27,
   "id": "6b5d1789",
   "metadata": {},
   "outputs": [],
   "source": [
    "# Indexing, Slicing and Iterating"
   ]
  },
  {
   "cell_type": "code",
   "execution_count": 28,
   "id": "f279d184",
   "metadata": {},
   "outputs": [
    {
     "data": {
      "text/plain": [
       "2"
      ]
     },
     "execution_count": 28,
     "metadata": {},
     "output_type": "execute_result"
    }
   ],
   "source": [
    "#Indexing\n",
    "\n",
    "a = np.array([1,2,3])\n",
    "a[1]\n"
   ]
  },
  {
   "cell_type": "code",
   "execution_count": 29,
   "id": "b97b4251",
   "metadata": {},
   "outputs": [
    {
     "name": "stdout",
     "output_type": "stream",
     "text": [
      "[False False False]\n"
     ]
    }
   ],
   "source": [
    "# Boolean Indexing\n",
    "\n",
    "print(a>5)\n"
   ]
  },
  {
   "cell_type": "code",
   "execution_count": 30,
   "id": "cafac655",
   "metadata": {},
   "outputs": [
    {
     "name": "stdout",
     "output_type": "stream",
     "text": [
      "[]\n"
     ]
    }
   ],
   "source": [
    "print(a[a>5])"
   ]
  },
  {
   "cell_type": "code",
   "execution_count": 32,
   "id": "3566dcec",
   "metadata": {},
   "outputs": [
    {
     "name": "stdout",
     "output_type": "stream",
     "text": [
      "[2 3]\n",
      "[1 2 3]\n"
     ]
    }
   ],
   "source": [
    "# Slicing is a way to create a sub array based on the original array.\n",
    "# For 1-d array, slicig works in similar ways to a list. To slice, we use the : sign\n",
    "\n",
    "\n",
    "a= np.array([1,2,3,4])\n",
    "\n",
    "print(a[1:3])\n",
    "print(a[:-1])\n"
   ]
  },
  {
   "cell_type": "code",
   "execution_count": 33,
   "id": "6153344c",
   "metadata": {},
   "outputs": [
    {
     "data": {
      "text/plain": [
       "array([[ 1,  2,  3,  4],\n",
       "       [ 2,  3,  4,  6],\n",
       "       [11,  2,  3, 55]])"
      ]
     },
     "execution_count": 33,
     "metadata": {},
     "output_type": "execute_result"
    }
   ],
   "source": [
    "# Slicing for multi-dimensional arrays\n",
    "\n",
    "a = np.array([[1,2,3,4],[2,3,4,6],[11,2,3,55]])\n",
    "a"
   ]
  },
  {
   "cell_type": "code",
   "execution_count": 34,
   "id": "2f04431d",
   "metadata": {},
   "outputs": [
    {
     "data": {
      "text/plain": [
       "array([[1, 2, 3, 4],\n",
       "       [2, 3, 4, 6]])"
      ]
     },
     "execution_count": 34,
     "metadata": {},
     "output_type": "execute_result"
    }
   ],
   "source": [
    "a[:2]"
   ]
  },
  {
   "cell_type": "code",
   "execution_count": 35,
   "id": "9c47ffb5",
   "metadata": {},
   "outputs": [
    {
     "data": {
      "text/plain": [
       "array([[1, 2],\n",
       "       [2, 3]])"
      ]
     },
     "execution_count": 35,
     "metadata": {},
     "output_type": "execute_result"
    }
   ],
   "source": [
    "a[:2,:2]"
   ]
  },
  {
   "cell_type": "code",
   "execution_count": 36,
   "id": "e7f3ff76",
   "metadata": {},
   "outputs": [
    {
     "data": {
      "text/plain": [
       "array([[4],\n",
       "       [3]])"
      ]
     },
     "execution_count": 36,
     "metadata": {},
     "output_type": "execute_result"
    }
   ],
   "source": [
    "# First arg -> rows, second arg -> cols\n",
    "\n",
    "a[1:3,2:3]"
   ]
  },
  {
   "cell_type": "code",
   "execution_count": 39,
   "id": "7d8a1063",
   "metadata": {
    "scrolled": true
   },
   "outputs": [
    {
     "name": "stdout",
     "output_type": "stream",
     "text": [
      "50\n",
      "50\n"
     ]
    }
   ],
   "source": [
    "# It is important to realize that a slice of an array is a view into the same data. \n",
    "# This is called passing by reference. So modifying the sub array will consequently \n",
    "# modify the original array.\n",
    "\n",
    "sub_arr = a[:2,1:3]\n",
    "sub_arr[0,0] = 50\n",
    "print(sub_arr[0,0])\n",
    "print(a[0,1])\n"
   ]
  },
  {
   "cell_type": "code",
   "execution_count": null,
   "id": "9400371e",
   "metadata": {},
   "outputs": [],
   "source": []
  }
 ],
 "metadata": {
  "kernelspec": {
   "display_name": "Python 3",
   "language": "python",
   "name": "python3"
  },
  "language_info": {
   "codemirror_mode": {
    "name": "ipython",
    "version": 3
   },
   "file_extension": ".py",
   "mimetype": "text/x-python",
   "name": "python",
   "nbconvert_exporter": "python",
   "pygments_lexer": "ipython3",
   "version": "3.8.8"
  }
 },
 "nbformat": 4,
 "nbformat_minor": 5
}
