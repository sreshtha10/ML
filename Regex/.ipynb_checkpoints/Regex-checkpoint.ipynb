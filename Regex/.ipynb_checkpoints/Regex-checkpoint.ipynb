{
 "cells": [
  {
   "cell_type": "code",
   "execution_count": 1,
   "id": "cc0fa630-2163-488f-8711-2e20d3c5c4a2",
   "metadata": {},
   "outputs": [],
   "source": [
    "# Regex"
   ]
  },
  {
   "cell_type": "code",
   "execution_count": 2,
   "id": "5db32b18-95c8-4018-b7fb-5b091e1fc58e",
   "metadata": {},
   "outputs": [],
   "source": [
    "import re"
   ]
  },
  {
   "cell_type": "code",
   "execution_count": 3,
   "id": "773e4ffb-130f-4f13-a420-dd06c1fc5286",
   "metadata": {},
   "outputs": [
    {
     "name": "stdout",
     "output_type": "stream",
     "text": [
      "Wonderful\n"
     ]
    }
   ],
   "source": [
    "# match() checks for a match that is at the beginning of the string and\n",
    "# returns a boolean.\n",
    "# search() checks for a match anywhere in the string and returns a boolean.\n",
    "\n",
    "text =  \"This is a good day\"\n",
    "\n",
    "if re.search(\"good\",text):\n",
    "    print(\"Wonderful\")\n",
    "else:\n",
    "    print(\"Alas :(\")"
   ]
  },
  {
   "cell_type": "code",
   "execution_count": 4,
   "id": "a8183c15-92b1-4daf-ac8a-bd573efc69ec",
   "metadata": {},
   "outputs": [
    {
     "data": {
      "text/plain": [
       "['',\n",
       " ' works diligently. ',\n",
       " ' gets good grades. Our student ',\n",
       " ' is successful.']"
      ]
     },
     "execution_count": 4,
     "metadata": {},
     "output_type": "execute_result"
    }
   ],
   "source": [
    "# Tokenizing where string is seperated into substrings based on patterns.\n",
    "# Used is natural lang processing\n",
    "\n",
    "# The findall() and split() functions will parse the string for us and \n",
    "# return chunks.\n",
    "text = \"Amy works diligently. Amy gets good grades. Our student Amy is successful.\"\n",
    "\n",
    "re.split(\"Amy\",text)"
   ]
  },
  {
   "cell_type": "code",
   "execution_count": 7,
   "id": "b6c02131-a080-4fff-97f6-a78aa862ce4c",
   "metadata": {},
   "outputs": [
    {
     "data": {
      "text/plain": [
       "['Amy', 'Amy', 'Amy']"
      ]
     },
     "execution_count": 7,
     "metadata": {},
     "output_type": "execute_result"
    }
   ],
   "source": [
    "re.findall(\"Amy\",text)"
   ]
  },
  {
   "cell_type": "code",
   "execution_count": 8,
   "id": "011f983e-b0ea-4c78-a0a4-b47fc4bb0d9e",
   "metadata": {},
   "outputs": [
    {
     "data": {
      "text/plain": [
       "<re.Match object; span=(0, 3), match='Amy'>"
      ]
     },
     "execution_count": 8,
     "metadata": {},
     "output_type": "execute_result"
    }
   ],
   "source": [
    "# Achors -> specify the start and/or end of the string that you are trying\n",
    "# to match.The caret character ^ means start and the dollar $ char means end\n",
    "# If you put ^ before a string, it means that the text must start with\n",
    "# the string you specify. For ending, you have to put $ char after the string\n",
    "# it means that it must end with the string specify.\n",
    "\n",
    "text = \"Amy works diligently. Amy gets good grades. Our student Amy is successful.\"\n",
    "\n",
    "re.search(\"^Amy\",text)\n"
   ]
  },
  {
   "cell_type": "code",
   "execution_count": 9,
   "id": "aafcb796-3746-4047-84dd-488b83ef7170",
   "metadata": {},
   "outputs": [],
   "source": [
    "# Patterns and Character classes"
   ]
  },
  {
   "cell_type": "code",
   "execution_count": 10,
   "id": "464f13f5-dd72-4db3-b6f9-b08849667bd3",
   "metadata": {},
   "outputs": [
    {
     "data": {
      "text/plain": [
       "['B', 'B']"
      ]
     },
     "execution_count": 10,
     "metadata": {},
     "output_type": "execute_result"
    }
   ],
   "source": [
    "grades = \"AABDDCAAB\"\n",
    "re.findall(\"B\",grades)"
   ]
  },
  {
   "cell_type": "code",
   "execution_count": 11,
   "id": "1763b443-a001-4739-a471-125da8f9de6b",
   "metadata": {},
   "outputs": [
    {
     "data": {
      "text/plain": [
       "['A', 'A', 'B', 'A', 'A', 'B']"
      ]
     },
     "execution_count": 11,
     "metadata": {},
     "output_type": "execute_result"
    }
   ],
   "source": [
    "# If we want to count the number of A's or B's in the list we can't use\n",
    "# \"AB\" since this used to match all A's followed immediately by a B.\n",
    "# Instead we put the chars in square brackets.\n",
    "\n",
    "re.findall(\"[AB]\",grades)"
   ]
  },
  {
   "cell_type": "code",
   "execution_count": 12,
   "id": "20defbba-be61-471a-92ee-541a8dd9ff3c",
   "metadata": {},
   "outputs": [
    {
     "data": {
      "text/plain": [
       "['AB', 'AB']"
      ]
     },
     "execution_count": 12,
     "metadata": {},
     "output_type": "execute_result"
    }
   ],
   "source": [
    "# This is called the set operator. You can also include a range of characters\n",
    "# which are ordered alphanumerically.\n",
    "\n",
    "re.findall(\"[A][B-C]\",grades)"
   ]
  },
  {
   "cell_type": "code",
   "execution_count": 13,
   "id": "0c029634-1e5f-44fa-a7be-39965af2c25d",
   "metadata": {},
   "outputs": [
    {
     "data": {
      "text/plain": [
       "['AB', 'AB']"
      ]
     },
     "execution_count": 13,
     "metadata": {},
     "output_type": "execute_result"
    }
   ],
   "source": [
    "# We can do the same with Pipe operator (OR)\n",
    "\n",
    "re.findall(\"AB|AC\",grades)"
   ]
  },
  {
   "cell_type": "code",
   "execution_count": 14,
   "id": "7c5ed710-6ead-4006-8a59-fb34c64e9ce4",
   "metadata": {},
   "outputs": [
    {
     "data": {
      "text/plain": [
       "['B', 'D', 'D', 'C', 'B']"
      ]
     },
     "execution_count": 14,
     "metadata": {},
     "output_type": "execute_result"
    }
   ],
   "source": [
    "# We can also use the caret ^ operator to negate our results inside set ( [] ) operator.\n",
    "\n",
    "re.findall(\"[^A]\",grades)"
   ]
  },
  {
   "cell_type": "code",
   "execution_count": 15,
   "id": "e43f6c2a-0279-4057-bae3-8b062d5fb842",
   "metadata": {},
   "outputs": [
    {
     "data": {
      "text/plain": [
       "['AA', 'AA']"
      ]
     },
     "execution_count": 15,
     "metadata": {},
     "output_type": "execute_result"
    }
   ],
   "source": [
    "# Quantifiers -> specify the number of times you want a pattern to be matched\n",
    "# in order to match. The most basic quantifier is expressed as e{m,n}\n",
    "# where e is the expression or character to be matched, m is the min number\n",
    "# of occurences of e and n is the max number of times the item could be matched\n",
    "\n",
    "re.findall(\"A{2,10}\",grades)\n"
   ]
  },
  {
   "cell_type": "code",
   "execution_count": null,
   "id": "ed5c52c5-818e-4b5c-9281-fd46db4470f9",
   "metadata": {},
   "outputs": [],
   "source": []
  }
 ],
 "metadata": {
  "kernelspec": {
   "display_name": "Python 3",
   "language": "python",
   "name": "python3"
  },
  "language_info": {
   "codemirror_mode": {
    "name": "ipython",
    "version": 3
   },
   "file_extension": ".py",
   "mimetype": "text/x-python",
   "name": "python",
   "nbconvert_exporter": "python",
   "pygments_lexer": "ipython3",
   "version": "3.8.8"
  }
 },
 "nbformat": 4,
 "nbformat_minor": 5
}
