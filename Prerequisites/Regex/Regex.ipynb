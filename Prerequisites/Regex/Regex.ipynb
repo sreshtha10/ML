{
 "cells": [
  {
   "cell_type": "code",
   "execution_count": 1,
   "id": "cc0fa630-2163-488f-8711-2e20d3c5c4a2",
   "metadata": {},
   "outputs": [],
   "source": [
    "# Regex"
   ]
  },
  {
   "cell_type": "code",
   "execution_count": 2,
   "id": "5db32b18-95c8-4018-b7fb-5b091e1fc58e",
   "metadata": {},
   "outputs": [],
   "source": [
    "import re"
   ]
  },
  {
   "cell_type": "code",
   "execution_count": 3,
   "id": "773e4ffb-130f-4f13-a420-dd06c1fc5286",
   "metadata": {},
   "outputs": [
    {
     "name": "stdout",
     "output_type": "stream",
     "text": [
      "Wonderful\n"
     ]
    }
   ],
   "source": [
    "# match() checks for a match that is at the beginning of the string and\n",
    "# returns a boolean.\n",
    "# search() checks for a match anywhere in the string and returns a boolean.\n",
    "\n",
    "text =  \"This is a good day\"\n",
    "\n",
    "if re.search(\"good\",text):\n",
    "    print(\"Wonderful\")\n",
    "else:\n",
    "    print(\"Alas :(\")"
   ]
  },
  {
   "cell_type": "code",
   "execution_count": 4,
   "id": "a8183c15-92b1-4daf-ac8a-bd573efc69ec",
   "metadata": {},
   "outputs": [
    {
     "data": {
      "text/plain": [
       "['',\n",
       " ' works diligently. ',\n",
       " ' gets good grades. Our student ',\n",
       " ' is successful.']"
      ]
     },
     "execution_count": 4,
     "metadata": {},
     "output_type": "execute_result"
    }
   ],
   "source": [
    "# Tokenizing where string is seperated into substrings based on patterns.\n",
    "# Used is natural lang processing\n",
    "\n",
    "# The findall() and split() functions will parse the string for us and \n",
    "# return chunks.\n",
    "text = \"Amy works diligently. Amy gets good grades. Our student Amy is successful.\"\n",
    "\n",
    "re.split(\"Amy\",text)"
   ]
  },
  {
   "cell_type": "code",
   "execution_count": 7,
   "id": "b6c02131-a080-4fff-97f6-a78aa862ce4c",
   "metadata": {},
   "outputs": [
    {
     "data": {
      "text/plain": [
       "['Amy', 'Amy', 'Amy']"
      ]
     },
     "execution_count": 7,
     "metadata": {},
     "output_type": "execute_result"
    }
   ],
   "source": [
    "re.findall(\"Amy\",text)"
   ]
  },
  {
   "cell_type": "code",
   "execution_count": 8,
   "id": "011f983e-b0ea-4c78-a0a4-b47fc4bb0d9e",
   "metadata": {},
   "outputs": [
    {
     "data": {
      "text/plain": [
       "<re.Match object; span=(0, 3), match='Amy'>"
      ]
     },
     "execution_count": 8,
     "metadata": {},
     "output_type": "execute_result"
    }
   ],
   "source": [
    "# Achors -> specify the start and/or end of the string that you are trying\n",
    "# to match.The caret character ^ means start and the dollar $ char means end\n",
    "# If you put ^ before a string, it means that the text must start with\n",
    "# the string you specify. For ending, you have to put $ char after the string\n",
    "# it means that it must end with the string specify.\n",
    "\n",
    "text = \"Amy works diligently. Amy gets good grades. Our student Amy is successful.\"\n",
    "\n",
    "re.search(\"^Amy\",text)\n"
   ]
  },
  {
   "cell_type": "code",
   "execution_count": 9,
   "id": "aafcb796-3746-4047-84dd-488b83ef7170",
   "metadata": {},
   "outputs": [],
   "source": [
    "# Patterns and Character classes"
   ]
  },
  {
   "cell_type": "code",
   "execution_count": 10,
   "id": "464f13f5-dd72-4db3-b6f9-b08849667bd3",
   "metadata": {},
   "outputs": [
    {
     "data": {
      "text/plain": [
       "['B', 'B']"
      ]
     },
     "execution_count": 10,
     "metadata": {},
     "output_type": "execute_result"
    }
   ],
   "source": [
    "grades = \"AABDDCAAB\"\n",
    "re.findall(\"B\",grades)"
   ]
  },
  {
   "cell_type": "code",
   "execution_count": 11,
   "id": "1763b443-a001-4739-a471-125da8f9de6b",
   "metadata": {},
   "outputs": [
    {
     "data": {
      "text/plain": [
       "['A', 'A', 'B', 'A', 'A', 'B']"
      ]
     },
     "execution_count": 11,
     "metadata": {},
     "output_type": "execute_result"
    }
   ],
   "source": [
    "# If we want to count the number of A's or B's in the list we can't use\n",
    "# \"AB\" since this used to match all A's followed immediately by a B.\n",
    "# Instead we put the chars in square brackets.\n",
    "\n",
    "re.findall(\"[AB]\",grades)"
   ]
  },
  {
   "cell_type": "code",
   "execution_count": 12,
   "id": "20defbba-be61-471a-92ee-541a8dd9ff3c",
   "metadata": {},
   "outputs": [
    {
     "data": {
      "text/plain": [
       "['AB', 'AB']"
      ]
     },
     "execution_count": 12,
     "metadata": {},
     "output_type": "execute_result"
    }
   ],
   "source": [
    "# This is called the set operator. You can also include a range of characters\n",
    "# which are ordered alphanumerically.\n",
    "\n",
    "re.findall(\"[A][B-C]\",grades)"
   ]
  },
  {
   "cell_type": "code",
   "execution_count": 13,
   "id": "0c029634-1e5f-44fa-a7be-39965af2c25d",
   "metadata": {},
   "outputs": [
    {
     "data": {
      "text/plain": [
       "['AB', 'AB']"
      ]
     },
     "execution_count": 13,
     "metadata": {},
     "output_type": "execute_result"
    }
   ],
   "source": [
    "# We can do the same with Pipe operator (OR)\n",
    "\n",
    "re.findall(\"AB|AC\",grades)"
   ]
  },
  {
   "cell_type": "code",
   "execution_count": 14,
   "id": "7c5ed710-6ead-4006-8a59-fb34c64e9ce4",
   "metadata": {},
   "outputs": [
    {
     "data": {
      "text/plain": [
       "['B', 'D', 'D', 'C', 'B']"
      ]
     },
     "execution_count": 14,
     "metadata": {},
     "output_type": "execute_result"
    }
   ],
   "source": [
    "# We can also use the caret ^ operator to negate our results inside set ( [] ) operator.\n",
    "\n",
    "re.findall(\"[^A]\",grades)"
   ]
  },
  {
   "cell_type": "code",
   "execution_count": 15,
   "id": "e43f6c2a-0279-4057-bae3-8b062d5fb842",
   "metadata": {},
   "outputs": [
    {
     "data": {
      "text/plain": [
       "['AA', 'AA']"
      ]
     },
     "execution_count": 15,
     "metadata": {},
     "output_type": "execute_result"
    }
   ],
   "source": [
    "# Quantifiers -> specify the number of times you want a pattern to be matched\n",
    "# in order to match. The most basic quantifier is expressed as e{m,n}\n",
    "# where e is the expression or character to be matched, m is the min number\n",
    "# of occurences of e and n is the max number of times the item could be matched\n",
    "\n",
    "re.findall(\"A{2,10}\",grades)\n"
   ]
  },
  {
   "cell_type": "code",
   "execution_count": 16,
   "id": "ed5c52c5-818e-4b5c-9281-fd46db4470f9",
   "metadata": {},
   "outputs": [],
   "source": [
    "# * -> used to match 0 or more times,\n",
    "# ? -> used to match 1 or more times\n",
    "# + -> used to match 1 or more times\n",
    "# \\w -> used to match any letter, including digits and numbers.\n",
    "# \\s -> used to match any whitespace"
   ]
  },
  {
   "cell_type": "code",
   "execution_count": 19,
   "id": "1f3df5cd-318f-4240-80e4-a496333f7ccb",
   "metadata": {},
   "outputs": [],
   "source": [
    "# Reading a dataset\n",
    "with open('dataset/ferpa.txt') as file:\n",
    "        wiki = file.read()"
   ]
  },
  {
   "cell_type": "code",
   "execution_count": 20,
   "id": "5f87e8bd-ff59-4c38-9df9-d1afb9714863",
   "metadata": {},
   "outputs": [
    {
     "name": "stdout",
     "output_type": "stream",
     "text": [
      "Overview[edit]\n",
      "FERPA gives parents access to their child's education records, an opportunity to seek to have the records amended, and some control over the disclosure of information from the records. With several exceptions, schools must have a student's consent prior to the disclosure of education records after that student is 18 years old. The law applies only to educational agencies and institutions that receive funds under a program administered by the U.S. Department of Education.\n",
      "\n",
      "Other regulations under this act, effective starting January 3, 2012, allow for greater disclosures of personal and directory student identifying information and regulate student IDs and e-mail addresses.[2] For example, schools may provide external companies with a student's personally identifiable information without the student's consent.[2]\n",
      "\n",
      "Examples of situations affected by FERPA include school employees divulging information to anyone other than the student about the student's grades or behavior, and school work posted on a bulletin board with a grade. Generally, schools must have written permission from the parent or eligible student in order to release any information from a student's education record.\n",
      "\n",
      "This privacy policy also governs how state agencies transmit testing data to federal agencies, such as the Education Data Exchange Network.\n",
      "\n",
      "This U.S. federal law also gave students 18 years of age or older, or students of any age if enrolled in any post-secondary educational institution, the right of privacy regarding grades, enrollment, and even billing information unless the school has specific permission from the student to share that specific type of information.\n",
      "\n",
      "FERPA also permits a school to disclose personally identifiable information from education records of an \"eligible student\" (a student age 18 or older or enrolled in a postsecondary institution at any age) to his or her parents if the student is a \"dependent student\" as that term is defined in Section 152 of the Internal Revenue Code. Generally, if either parent has claimed the student as a dependent on the parent's most recent income tax statement, the school may non-consensually disclose the student's education records to both parents.[3]\n",
      "\n",
      "The law allowed students who apply to an educational institution such as graduate school permission to view recommendations submitted by others as part of the application. However, on standard application forms, students are given the option to waive this right.\n",
      "\n",
      "FERPA specifically excludes employees of an educational institution if they are not students.\n",
      "\n",
      "The act is also referred to as the Buckley Amendment, for one of its proponents, Senator James L. Buckley of New York.\n",
      "\n",
      "Access to public records[edit]\n",
      "The citing of FERPA to conceal public records that are not \"educational\" in nature has been widely criticized, including by the act's primary Senate sponsor.[4] For example, in the Owasso Independent School District v. Falvo case, an important part of the debate was determining the relationship between peer-grading and \"education records\" as defined in FERPA. In the Court of Appeals, it was ruled that students placing grades on the work of other students made such work into an \"education record.\" Thus, peer-grading was determined as a violation of FERPA privacy policies because students had access to other students' academic performance without full consent.[5] However, when the case went to the Supreme Court, it was officially ruled that peer-grading was not a violation of FERPA. This is because a grade written on a student's work does not become an \"education record\" until the teacher writes the final grade into a grade book.[6]\n",
      "\n",
      "Student medical records[edit]\n",
      "Legal experts have debated the issue of whether student medical records (for example records of therapy sessions with a therapist at an on-campus counseling center) might be released to the school administration under certain triggering events, such as when a student sued his college or university.[7][8]\n",
      "\n",
      "Usually, student medical treatment records will remain under the protection of FERPA, not the Health Insurance Portability and Accountability Act (HIPAA). This is due to the \"FERPA Exception\" written within HIPAA.[9]\n"
     ]
    }
   ],
   "source": [
    "print(wiki)"
   ]
  },
  {
   "cell_type": "code",
   "execution_count": 21,
   "id": "75a0fc71-8f75-4032-92da-b738216d3748",
   "metadata": {},
   "outputs": [
    {
     "data": {
      "text/plain": [
       "['Overview[edit]', 'records[edit]', 'records[edit]']"
      ]
     },
     "execution_count": 21,
     "metadata": {},
     "output_type": "execute_result"
    }
   ],
   "source": [
    "re.findall(\"[a-zA-z]{1,100}\\[edit\\]\",wiki)"
   ]
  },
  {
   "cell_type": "code",
   "execution_count": 22,
   "id": "2d189420-005b-4246-a1bc-b430ea292318",
   "metadata": {},
   "outputs": [
    {
     "data": {
      "text/plain": [
       "['Overview[edit]', 'records[edit]', 'records[edit]']"
      ]
     },
     "execution_count": 22,
     "metadata": {},
     "output_type": "execute_result"
    }
   ],
   "source": [
    "re.findall(\"[\\w]{1,100}\\[edit\\]\",wiki)"
   ]
  },
  {
   "cell_type": "code",
   "execution_count": 24,
   "id": "4775f67d-4729-4b09-adcc-c7773677cf5d",
   "metadata": {},
   "outputs": [
    {
     "data": {
      "text/plain": [
       "['Overview[edit]', 'records[edit]', 'records[edit]']"
      ]
     },
     "execution_count": 24,
     "metadata": {},
     "output_type": "execute_result"
    }
   ],
   "source": [
    "re.findall(\"[\\w]*\\[edit\\]\",wiki)"
   ]
  },
  {
   "cell_type": "code",
   "execution_count": 26,
   "id": "391d4060-6463-4fb2-8122-55585ad2910f",
   "metadata": {},
   "outputs": [
    {
     "data": {
      "text/plain": [
       "['Overview[edit]',\n",
       " 'Access to public records[edit]',\n",
       " 'Student medical records[edit]']"
      ]
     },
     "execution_count": 26,
     "metadata": {},
     "output_type": "execute_result"
    }
   ],
   "source": [
    "re.findall(\"[\\w ]*\\[edit\\]\",wiki)"
   ]
  },
  {
   "cell_type": "code",
   "execution_count": 29,
   "id": "f7379bcc-b67e-401e-aa4a-f8aa6226b8a7",
   "metadata": {},
   "outputs": [
    {
     "name": "stdout",
     "output_type": "stream",
     "text": [
      "Overview\n",
      "Access to public records\n",
      "Student medical records\n"
     ]
    }
   ],
   "source": [
    "for title in re.findall(\"[\\w ]*\\[edit\\]\",wiki):\n",
    "    print(re.split(\"[\\[]\",title)[0])"
   ]
  },
  {
   "cell_type": "code",
   "execution_count": 30,
   "id": "9268584d-fab9-46b3-9ea0-5ae63719a4c9",
   "metadata": {},
   "outputs": [],
   "source": [
    "# Groups.\n",
    "# To group patterns we use parenthesis ()"
   ]
  },
  {
   "cell_type": "code",
   "execution_count": 31,
   "id": "790a7b0f-2e1b-416b-9b13-f33a134f15f6",
   "metadata": {},
   "outputs": [
    {
     "data": {
      "text/plain": [
       "[('Overview', '[edit]'),\n",
       " ('Access to public records', '[edit]'),\n",
       " ('Student medical records', '[edit]')]"
      ]
     },
     "execution_count": 31,
     "metadata": {},
     "output_type": "execute_result"
    }
   ],
   "source": [
    "re.findall(\"([\\w ]*)(\\[edit\\])\",wiki)"
   ]
  },
  {
   "cell_type": "code",
   "execution_count": 32,
   "id": "e54e16d5-5189-4e2d-b6b2-644c2020a48e",
   "metadata": {},
   "outputs": [
    {
     "name": "stdout",
     "output_type": "stream",
     "text": [
      "('Overview', '[edit]')\n",
      "('Access to public records', '[edit]')\n",
      "('Student medical records', '[edit]')\n"
     ]
    }
   ],
   "source": [
    "# finditer() retuns the list of Match objects instead of string itself.\n",
    "\n",
    "for item in re.finditer(\"([\\w ]*)(\\[edit\\])\",wiki):\n",
    "    print(item.groups())"
   ]
  },
  {
   "cell_type": "code",
   "execution_count": 33,
   "id": "a5add846-e254-40e1-887d-f6d5010ae6ab",
   "metadata": {},
   "outputs": [
    {
     "name": "stdout",
     "output_type": "stream",
     "text": [
      "Overview\n",
      "Access to public records\n",
      "Student medical records\n"
     ]
    }
   ],
   "source": [
    "# groups() returns a tuple of the group.\n",
    "\n",
    "for item in re.finditer(\"([\\w ]*)(\\[edit\\])\",wiki):\n",
    "    print(item.group(1))"
   ]
  },
  {
   "cell_type": "code",
   "execution_count": 34,
   "id": "c69c0db9-4b26-4eed-b6a6-14173af64bd0",
   "metadata": {},
   "outputs": [
    {
     "name": "stdout",
     "output_type": "stream",
     "text": [
      "Overview\n",
      "Access to public records\n",
      "Student medical records\n"
     ]
    }
   ],
   "source": [
    "# Labeling or naming groups.\n",
    "\n",
    "for item in re.finditer(\"(?P<title>[\\w ]*)(?P<edit>\\[edit\\])\",wiki):\n",
    "    print(item.groupdict()['title'])"
   ]
  },
  {
   "cell_type": "code",
   "execution_count": 35,
   "id": "f2496702-d5c4-4abf-a56c-587eb4bb35ac",
   "metadata": {},
   "outputs": [
    {
     "name": "stdout",
     "output_type": "stream",
     "text": [
      "{'title': 'Student medical records', 'edit': '[edit]'}\n"
     ]
    }
   ],
   "source": [
    "print(item.groupdict())"
   ]
  },
  {
   "cell_type": "code",
   "execution_count": 36,
   "id": "fd90a069-ab53-4490-a7ef-62dca3552b8d",
   "metadata": {},
   "outputs": [],
   "source": [
    "# \\d - used for matching any digit."
   ]
  },
  {
   "cell_type": "code",
   "execution_count": 37,
   "id": "4e7b488b-c0c2-47e1-a248-c24267aa686b",
   "metadata": {},
   "outputs": [],
   "source": [
    "# Look-ahead and Look-behind"
   ]
  },
  {
   "cell_type": "code",
   "execution_count": 38,
   "id": "17a930ac-45e0-4d51-9437-fc677413b7ae",
   "metadata": {},
   "outputs": [
    {
     "name": "stdout",
     "output_type": "stream",
     "text": [
      "<re.Match object; span=(0, 8), match='Overview'>\n",
      "<re.Match object; span=(8, 8), match=''>\n",
      "<re.Match object; span=(2715, 2739), match='Access to public records'>\n",
      "<re.Match object; span=(2739, 2739), match=''>\n",
      "<re.Match object; span=(3692, 3715), match='Student medical records'>\n",
      "<re.Match object; span=(3715, 3715), match=''>\n"
     ]
    }
   ],
   "source": [
    "\n",
    "# ?= -> used to look ahead i.e we dont want it in the output match obj\n",
    "\n",
    "for item in re.finditer(\"(?P<title>[\\w ]*)(?=\\[edit\\])\",wiki):\n",
    "    print(item)"
   ]
  }
 ],
 "metadata": {
  "kernelspec": {
   "display_name": "Python 3",
   "language": "python",
   "name": "python3"
  },
  "language_info": {
   "codemirror_mode": {
    "name": "ipython",
    "version": 3
   },
   "file_extension": ".py",
   "mimetype": "text/x-python",
   "name": "python",
   "nbconvert_exporter": "python",
   "pygments_lexer": "ipython3",
   "version": "3.8.8"
  }
 },
 "nbformat": 4,
 "nbformat_minor": 5
}
